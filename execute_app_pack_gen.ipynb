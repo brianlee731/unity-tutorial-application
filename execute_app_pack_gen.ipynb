{
 "cells": [
  {
   "cell_type": "code",
   "execution_count": 1,
   "id": "f8209773-02dc-4233-9edc-8c0405cdcefc",
   "metadata": {},
   "outputs": [],
   "source": [
    "import requests\n",
    "\n",
    "from unity_sds_client.unity import Unity\n",
    "from unity_sds_client.unity import UnityEnvironments"
   ]
  },
  {
   "cell_type": "code",
   "execution_count": 13,
   "id": "b4e167a8-ab12-42a1-a455-f7a7ba23a400",
   "metadata": {},
   "outputs": [
    {
     "name": "stdin",
     "output_type": "stream",
     "text": [
      "Please enter your Unity username:  leebrian\n",
      "Please enter your Unity password:  ········\n"
     ]
    }
   ],
   "source": [
    "# if you're reading this as a user, you probably have a 'TEST' or 'PROD' user account. This will be updated to work though unity-py directly.\n",
    "s = Unity(UnityEnvironments.TEST)\n",
    "token = s._session.get_auth().get_token()"
   ]
  },
  {
   "cell_type": "code",
   "execution_count": 18,
   "id": "dabfc3b8-e2c7-4278-90fb-ce22897296c0",
   "metadata": {},
   "outputs": [],
   "source": [
    "# Requires User to change the path to the application URL\n",
    "clone_url = \"https://github.com/unity-sds/SBG-unity-isofit\""
   ]
  },
  {
   "cell_type": "code",
   "execution_count": 19,
   "id": "12f49227-7a72-4c71-a831-889b88ab617b",
   "metadata": {},
   "outputs": [],
   "source": [
    "api_url = \"https://api.mdps.mcp.nasa.gov/ads-acb/mcp-clone\"\n",
    "\n",
    "response = requests.get(api_url, \n",
    "    headers = { 'content-type': 'application/json',\n",
    "                'Authorization': 'Bearer ' + token,\n",
    "                'clone_url': clone_url })"
   ]
  },
  {
   "cell_type": "code",
   "execution_count": 20,
   "id": "c8591d8f-b82e-435c-8e53-624bccd478b9",
   "metadata": {},
   "outputs": [
    {
     "data": {
      "text/plain": [
       "401"
      ]
     },
     "execution_count": 20,
     "metadata": {},
     "output_type": "execute_result"
    }
   ],
   "source": [
    "response.status_code"
   ]
  },
  {
   "cell_type": "code",
   "execution_count": null,
   "id": "0756ff6a-a37c-4907-9b62-30f8014fef55",
   "metadata": {},
   "outputs": [],
   "source": [
    "response.content"
   ]
  }
 ],
 "metadata": {
  "kernelspec": {
   "display_name": "Python [conda env:root] *",
   "language": "python",
   "name": "conda-root-py"
  },
  "language_info": {
   "codemirror_mode": {
    "name": "ipython",
    "version": 3
   },
   "file_extension": ".py",
   "mimetype": "text/x-python",
   "name": "python",
   "nbconvert_exporter": "python",
   "pygments_lexer": "ipython3",
   "version": "3.11.6"
  }
 },
 "nbformat": 4,
 "nbformat_minor": 5
}
